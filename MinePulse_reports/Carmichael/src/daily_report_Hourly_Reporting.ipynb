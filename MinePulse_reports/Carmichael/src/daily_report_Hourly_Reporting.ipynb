{
 "cells": [
  {
   "cell_type": "code",
   "execution_count": 9,
   "id": "3e31bb21-f9f7-4e4c-b37c-c178230539d3",
   "metadata": {
    "tags": []
   },
   "outputs": [],
   "source": [
    "shutdown_tags = ['73a26cf5-8767-4340-b7f3-b29400bd1b7c','aa5a76dd-74da-4aeb-a094-b29300ac591f','a929700b-ea59-4528-ad11-b29300ac4c79']\n",
    "\n",
    "chp_ids_raw_coal = ['c59c1380-873d-4ab2-b1cf-b29300ac4f72', '49fa9921-5ff8-436b-be58-b29300ac4f73', 'c5a497de-72a2-4a2a-8005-b29300ac4e2b', \n",
    "             'ece7a129-51be-4cd7-a9ae-b29300ac4e2c', '259734a5-e085-429d-a8e8-b29300ac5c12', '67335b2c-ac88-4dbb-b6c1-b29300ac4f90', \n",
    "             'a5137c9e-9235-418c-aa84-b29300ac4f91', '8cc95412-4a2a-4253-8e26-b29300ac4f94', '5301786e-6cd0-4de7-956f-b29300ac4f95', \n",
    "             '7268a03c-c397-4e02-a58d-b29300ac4f8e', 'cf67e9d8-039d-4c71-89ed-b29300ac5c14', '17ba542d-8cd6-4b15-ba24-b29300ac5c15', \n",
    "             'e3066f6f-b0fc-4bc5-9d69-b29300ac5c16', 'c15b2335-b017-4259-a567-b29300ac5c17']\n",
    "\n",
    "cpp_ids_raw_coal = ['476b2280-2fed-4347-8ef0-b29300ac44f7','290f8e4f-70e7-44c9-89c7-b29300ac44f8', 'dc493bb9-c41b-4215-9be5-b29300ac42f5', 'b5f37e41-e0b9-478f-8d7b-b29300ac42f7', \n",
    "             'a5e67b0a-f49c-40e2-a56e-b29300ac4307', '9c28a36b-3847-431b-8eb8-b29300ac4653', 'c3c02ef4-7606-4edf-949c-b29300ac4654', \n",
    "             '66b6f879-2075-4f24-8851-b29300ac4657', 'aca6628a-a5cf-41fe-8ccf-b29300ac4658', '30994d4f-6da1-45ba-984f-b29300ac4309', \n",
    "             '30994d4f-6da1-45ba-984f-b29300ac4309', '9180fdbf-ad01-47a3-aa23-b29300ac465d', 'b5254281-255c-4c3d-a90d-b29300ac4305']\n",
    "\n",
    "cpp_wash_water = ['46dd3cf8-6476-46d1-b920-b29300ac4660', 'ef345c67-a29b-4d63-81ea-b29300ac4970', 'c03ea409-df5a-43e3-a249-b29300ac4661', \n",
    "             '704ef947-7892-4c46-b8a0-b29300ac4665', 'd3f17e16-0c25-4fef-9a19-b29300ac4666', '445f9819-3678-4082-8a64-b29300ac466c', \n",
    "             '0a29d563-cbaf-4aa0-b4a1-b29300ac466a', '4794c1e0-aaf3-4113-a264-b29300ac4670', '7ec48425-26ee-46ba-bde4-b29300ac466d', \n",
    "             '6d30e089-fde2-40be-9b72-b29300ac4673', 'fe09ab98-2b3b-4baa-a8d7-b29300ac4671', '6aea184d-3f31-4c2b-9be4-b29300ac4677', \n",
    "             'f08714eb-c1fb-4756-808a-b29300ac4675', '78d06ce0-dc7b-4238-94d3-b29300ac4972', '9f0a3ddf-24e4-498d-a4d7-b29300ac4667', \n",
    "             '12260592-878c-4e8f-970e-b29300ac4669', 'bfb54469-36d0-42ab-836e-b29300ac4ade', 'c68e9c07-b678-4773-b8b0-b29300ac4678', \n",
    "             '1f77f691-9b5a-414e-ad38-b29300ac4679', '9243c627-4735-40a8-9033-b29300ac467b', 'e55d1039-3c37-4fc8-86d0-b29300ac467c', \n",
    "             '50cf0e26-1b9b-44ba-a172-b29300ac467d', '4403ea8c-5272-4219-9db4-b29300ac467e', '6458f97f-e810-4083-b959-b29300ac521c', \n",
    "             '572684db-fd14-4127-9107-b29300ac467f', 'ccaf7d34-e8c9-4b15-bc05-b29300ac4681', '74ecfe5d-a679-42db-8750-b29300ac4682', \n",
    "             'ceeafc92-9c3c-466a-bdb1-b29300ac4684', '81a386bb-0c15-4d5a-840f-b29300ac534c', 'f2ad563b-d4c6-448f-82f9-b29300ac47c7', \n",
    "             '7d196773-0aca-4572-a152-b29300ac5338', '27174fef-629b-40f0-874c-b29300ac5334', 'a1e2d6e6-f0e9-41e6-bb13-b29300ac5336', \n",
    "             'c4c100fb-d3ab-4055-bac4-b29300ac5333', 'f11c3a09-924b-49ad-bc95-b29300ac5335', 'd862051d-605e-40f3-b8da-b29300ac5332', \n",
    "             '622b1218-caa4-43b6-8099-b29300ac5339', 'c29f3430-cf79-414e-a2c2-b29300ac533b', '84635d6d-8953-4b55-a190-b29300ac533a', \n",
    "             '3997ef69-4c8f-45e5-a997-b29300ac533c', '4cf12d46-ad2b-47fc-9134-b29300ac5345', '43760f10-95a9-4a05-8231-b29300ac5347', \n",
    "             '7923ef42-a1be-49ab-860b-b29300ac5346', 'e4b13fb6-f09b-420b-91fe-b29300ac5348', 'ddf7c761-50e6-4ee8-a730-b29300ac533f', \n",
    "             '1595236b-64b4-465a-a0de-b29300ac5341', 'd15fad74-7c03-49f4-94c3-b29300ac5340', '9729df02-00da-4e37-b694-b29300ac5342', \n",
    "             'df296a82-eab5-40fa-8cb3-b29300ac565d', '1c945d0e-aa1b-481e-b1aa-b29300ac565e', '5ccc92cd-10c0-4b0d-9276-b29300ac534a', \n",
    "             'b5254281-255c-4c3d-a90d-b29300ac4305', '126b9a6b-5f6e-497b-86c8-b29300ac465f', '32726436-5177-4db7-8b4e-b29300ac468a', \n",
    "             '8d53cb32-3a40-4703-8f11-b29300ac468b', 'd8bf23a7-bda9-4c6b-9c74-b29300ac521e', 'b0f181fd-11c7-4ad9-b35f-b29300ac5220', \n",
    "             '1bd73ecb-863d-44f1-ab2c-b29300ac5221', '5f88b674-d405-47fe-985d-b29300ac5222', 'd78fcd59-164a-477c-88e6-b29300ac5223', \n",
    "             'fff93613-c94e-404c-8af4-b29300ac5224', 'f9646813-200e-414e-a138-b29300ac5226', '1debe932-ab5e-4436-baf7-b29300ac5227', \n",
    "             'df009ad6-ff9b-4f07-bc88-b29300ac44f4', '845362c9-4fed-4f7c-8602-b29300ac430a', '09f0721d-4426-4a81-b207-b29300ac430b', \n",
    "             '8e8baeef-b12f-425b-bdaa-b29300ac430c', '79b1f614-5231-4623-957f-b29300ac430d', 'f758a756-bf2c-45ed-9d2c-b29300ac4cac', \n",
    "             '055ce7b1-8450-4119-8f6a-b29300ac4caf', 'b804f852-b8db-410a-a6a2-b29300ac4cb1', '166289d1-ce1a-4de7-b069-b29300ac5a92', \n",
    "             '0dfd0598-3be4-423a-b0be-b29300ac4c8d', 'eaf3cbca-b06e-4254-9ca5-b29300ac4c8e', '8eb99ff2-3777-43c7-9047-b29300ac5ac0', \n",
    "             'e32c0db5-ae9e-4d3c-9a22-b29300ac4e06', 'c51cd43c-e85b-412a-9b03-b29300ac4e05', '4a7e8a88-22ee-4b87-84c6-b29300ac5a98', \n",
    "             '9a84c50d-6ec3-48b3-bea9-b29300ac5a99']"
   ]
  },
  {
   "cell_type": "code",
   "execution_count": 10,
   "id": "45206a86-e9a0-4b08-8c8a-fa79094cae0b",
   "metadata": {
    "tags": []
   },
   "outputs": [],
   "source": [
    "import schedule\n",
    "import time\n",
    "from PullData import DataPull\n",
    "from datetime import datetime, timedelta\n",
    "import pandas as pd\n",
    "\n",
    "# API Info\n",
    "APi_Info = {\n",
    "    \"api_url\": \"https://cmlminocore.minopex.com:443/DataExtract/Timescale_Carmichael/Fetch\",\n",
    "    \"Authorization\": \"a6ez@$m$uvyxJTzdcy3SjvTus^L7dkd7\"\n",
    "}\n",
    "\n",
    "\n",
    "def fetch_and_send_report(entity_ids = None):\n",
    "    print(\"Running scheduled data fetch and alert...\")\n",
    "\n",
    "    # Date range (fetch yesterday's data up to today)\n",
    "    # Get current date and time\n",
    "    now = datetime.now()\n",
    "    \n",
    "    # Calculate start_date as 24 hours before now\n",
    "    start_date = '2025-03-01 11:49:00+00:00' #(now - timedelta(days=20)).strftime(\"%Y-%m-%d %H:%M\")\n",
    "\n",
    "    # Set end_date as current time (when the script runs, 8 AM)\n",
    "    end_date = '2025-03-19 12:28:00+00:00' # now.strftime(\"%Y-%m-%d %H:%M\")\n",
    "    \n",
    "    print(\"Start time: \", start_date,\"\\n\",\"End Date:\",end_date)\n",
    "\n",
    "    # Create an instance of DataPull\n",
    "    datapull = DataPull(APi_Info)\n",
    "\n",
    "    # Targets\n",
    "    # targets = {\n",
    "    #     \"5a1a0996-9968-44f4-98d7-ad41008b795f\": {\"name\": \"Process Thickener Torque\", \"lower_bound\": 0, \"upper_bound\": 4.58, \"multiplier\": 1},\n",
    "    #     \"6f241988-e719-4296-819c-acfd00c28ee6\": {\"name\": \"DMS Feed Rate\", \"lower_bound\": 0, \"upper_bound\": 560, \"multiplier\": 1}\n",
    "    # }\n",
    "\n",
    "    # targets = datapull.get_SRI_data(targets, start_date, end_date)\n",
    "\n",
    "    # # Entity Configuration\n",
    "    entity_config = {\n",
    "        \"db970f5e-e8b7-4fea-a0d2-b29500ec133a\": {\"name\": \"db970f5e-e8b7-4fea-a0d2-b29500ec133a\", \"lower_bound\": None, \"upper_bound\": 4.58, \"multiplier\": 1, \"unit\": \"bar\"}\n",
    "        # \"6f241988-e719-4296-819c-acfd00c28ee6\": {\"name\": \"DMS Feed Rate\", \"lower_bound\": 560, \"upper_bound\": None, \"multiplier\": 1, \"unit\": \"t/h\"},\n",
    "    }\n",
    "    \n",
    "    # entity_config = [\"db970f5e-e8b7-4fea-a0d2-b29500ec133a\"]\n",
    "\n",
    "    # Fetch the data\n",
    "    # df = datapull.get_SRI_data(entity_ids, start_date, end_date)\n",
    "    # df =  datapull.get_SQL_data(site='Carmichael', date='2025-04-09')\n",
    "    datapull.connect_mssql_db()\n",
    "    df = datapull.get_SQL_data(site='Carmichael')\n",
    "    df[\"%_time_in_state\"] = 1 - df[\"Avg Limits Exceeded\"]\n",
    "    datapull.release_mssql_connection()\n",
    "    \n",
    "    datapull.send_telegram(df)\n",
    "    \n",
    "    # return df, targets\n",
    "    return df\n",
    "\n",
    "# # Schedule the job to run every day at 8 AM\n",
    "# schedule.every().day.at(\"08:00\").do(fetch_and_send_report)\n",
    "\n",
    "# # Keep the  script running\n",
    "# while True:\n",
    "#     schedule.run_pending()\n",
    "#     time.sleep(60)\n"
   ]
  },
  {
   "cell_type": "code",
   "execution_count": 2,
   "id": "906e3907-c7bb-4c5a-89f7-4c56db8f329b",
   "metadata": {
    "tags": []
   },
   "outputs": [
    {
     "name": "stdout",
     "output_type": "stream",
     "text": [
      "Running scheduled data fetch and alert...\n",
      "Start time:  2025-03-01 11:49:00+00:00 \n",
      " End Date: 2025-03-19 12:28:00+00:00\n",
      "Message sent successfully!\n"
     ]
    }
   ],
   "source": [
    "# all_tags = shutdown_tags #+ chp_ids + cpp_ids\n",
    "targets = fetch_and_send_report()"
   ]
  },
  {
   "cell_type": "code",
   "execution_count": 3,
   "id": "25d68fce-072c-446d-a15b-5258975ed2d2",
   "metadata": {},
   "outputs": [
    {
     "data": {
      "text/html": [
       "<div>\n",
       "<style scoped>\n",
       "    .dataframe tbody tr th:only-of-type {\n",
       "        vertical-align: middle;\n",
       "    }\n",
       "\n",
       "    .dataframe tbody tr th {\n",
       "        vertical-align: top;\n",
       "    }\n",
       "\n",
       "    .dataframe thead th {\n",
       "        text-align: right;\n",
       "    }\n",
       "</style>\n",
       "<table border=\"1\" class=\"dataframe\">\n",
       "  <thead>\n",
       "    <tr style=\"text-align: right;\">\n",
       "      <th></th>\n",
       "      <th>Controller</th>\n",
       "      <th>Date</th>\n",
       "      <th>Avg Limits Exceeded</th>\n",
       "      <th>avg_shutdown_%</th>\n",
       "      <th>%_time_in_state</th>\n",
       "    </tr>\n",
       "  </thead>\n",
       "  <tbody>\n",
       "    <tr>\n",
       "      <th>0</th>\n",
       "      <td>212WT1102_PID</td>\n",
       "      <td>2025-04-09</td>\n",
       "      <td>0.126666</td>\n",
       "      <td>96.366666</td>\n",
       "      <td>0.873334</td>\n",
       "    </tr>\n",
       "    <tr>\n",
       "      <th>1</th>\n",
       "      <td>222WT2102_PID</td>\n",
       "      <td>2025-04-09</td>\n",
       "      <td>0.000000</td>\n",
       "      <td>100.000000</td>\n",
       "      <td>1.000000</td>\n",
       "    </tr>\n",
       "    <tr>\n",
       "      <th>2</th>\n",
       "      <td>225BN2105_PID</td>\n",
       "      <td>2025-04-09</td>\n",
       "      <td>0.000000</td>\n",
       "      <td>100.000000</td>\n",
       "      <td>1.000000</td>\n",
       "    </tr>\n",
       "    <tr>\n",
       "      <th>3</th>\n",
       "      <td>225FD2115_PID</td>\n",
       "      <td>2025-04-09</td>\n",
       "      <td>0.000000</td>\n",
       "      <td>100.000000</td>\n",
       "      <td>1.000000</td>\n",
       "    </tr>\n",
       "    <tr>\n",
       "      <th>4</th>\n",
       "      <td>231PP2202_PIC</td>\n",
       "      <td>2025-04-09</td>\n",
       "      <td>0.000000</td>\n",
       "      <td>100.000000</td>\n",
       "      <td>1.000000</td>\n",
       "    </tr>\n",
       "    <tr>\n",
       "      <th>5</th>\n",
       "      <td>231PP2204_DIC</td>\n",
       "      <td>2025-04-09</td>\n",
       "      <td>0.000000</td>\n",
       "      <td>100.000000</td>\n",
       "      <td>1.000000</td>\n",
       "    </tr>\n",
       "    <tr>\n",
       "      <th>6</th>\n",
       "      <td>231PP2204_FIC</td>\n",
       "      <td>2025-04-09</td>\n",
       "      <td>0.000000</td>\n",
       "      <td>100.000000</td>\n",
       "      <td>1.000000</td>\n",
       "    </tr>\n",
       "    <tr>\n",
       "      <th>7</th>\n",
       "      <td>231PP2222_PIC</td>\n",
       "      <td>2025-04-09</td>\n",
       "      <td>0.000000</td>\n",
       "      <td>100.000000</td>\n",
       "      <td>1.000000</td>\n",
       "    </tr>\n",
       "    <tr>\n",
       "      <th>8</th>\n",
       "      <td>231PP2224_DIC</td>\n",
       "      <td>2025-04-09</td>\n",
       "      <td>0.000000</td>\n",
       "      <td>100.000000</td>\n",
       "      <td>1.000000</td>\n",
       "    </tr>\n",
       "    <tr>\n",
       "      <th>9</th>\n",
       "      <td>231PP2224_FIC</td>\n",
       "      <td>2025-04-09</td>\n",
       "      <td>0.000000</td>\n",
       "      <td>100.000000</td>\n",
       "      <td>1.000000</td>\n",
       "    </tr>\n",
       "    <tr>\n",
       "      <th>10</th>\n",
       "      <td>231SU2205_LIC</td>\n",
       "      <td>2025-04-09</td>\n",
       "      <td>0.000000</td>\n",
       "      <td>100.000000</td>\n",
       "      <td>1.000000</td>\n",
       "    </tr>\n",
       "    <tr>\n",
       "      <th>11</th>\n",
       "      <td>241SU2401_LIC</td>\n",
       "      <td>2025-04-09</td>\n",
       "      <td>0.000000</td>\n",
       "      <td>100.000000</td>\n",
       "      <td>1.000000</td>\n",
       "    </tr>\n",
       "    <tr>\n",
       "      <th>12</th>\n",
       "      <td>241SU2405_LIC</td>\n",
       "      <td>2025-04-09</td>\n",
       "      <td>0.000000</td>\n",
       "      <td>100.000000</td>\n",
       "      <td>1.000000</td>\n",
       "    </tr>\n",
       "    <tr>\n",
       "      <th>13</th>\n",
       "      <td>241SU2407_LIC</td>\n",
       "      <td>2025-04-09</td>\n",
       "      <td>0.000000</td>\n",
       "      <td>100.000000</td>\n",
       "      <td>1.000000</td>\n",
       "    </tr>\n",
       "    <tr>\n",
       "      <th>14</th>\n",
       "      <td>271TH2702_DIC</td>\n",
       "      <td>2025-04-09</td>\n",
       "      <td>0.000000</td>\n",
       "      <td>100.000000</td>\n",
       "      <td>1.000000</td>\n",
       "    </tr>\n",
       "    <tr>\n",
       "      <th>15</th>\n",
       "      <td>271TH2702_FIC</td>\n",
       "      <td>2025-04-09</td>\n",
       "      <td>0.000000</td>\n",
       "      <td>100.000000</td>\n",
       "      <td>1.000000</td>\n",
       "    </tr>\n",
       "    <tr>\n",
       "      <th>16</th>\n",
       "      <td>271TH2702_PIC</td>\n",
       "      <td>2025-04-09</td>\n",
       "      <td>0.000000</td>\n",
       "      <td>100.000000</td>\n",
       "      <td>1.000000</td>\n",
       "    </tr>\n",
       "    <tr>\n",
       "      <th>17</th>\n",
       "      <td>272PP2711_FIC</td>\n",
       "      <td>2025-04-09</td>\n",
       "      <td>0.000000</td>\n",
       "      <td>100.000000</td>\n",
       "      <td>1.000000</td>\n",
       "    </tr>\n",
       "    <tr>\n",
       "      <th>18</th>\n",
       "      <td>272PP2712_FIC</td>\n",
       "      <td>2025-04-09</td>\n",
       "      <td>0.000000</td>\n",
       "      <td>100.000000</td>\n",
       "      <td>1.000000</td>\n",
       "    </tr>\n",
       "    <tr>\n",
       "      <th>19</th>\n",
       "      <td>272PP2713_FIC</td>\n",
       "      <td>2025-04-09</td>\n",
       "      <td>0.000000</td>\n",
       "      <td>100.000000</td>\n",
       "      <td>1.000000</td>\n",
       "    </tr>\n",
       "    <tr>\n",
       "      <th>20</th>\n",
       "      <td>272PP2714_FIC</td>\n",
       "      <td>2025-04-09</td>\n",
       "      <td>0.000000</td>\n",
       "      <td>100.000000</td>\n",
       "      <td>1.000000</td>\n",
       "    </tr>\n",
       "    <tr>\n",
       "      <th>21</th>\n",
       "      <td>272PP2715_FIC</td>\n",
       "      <td>2025-04-09</td>\n",
       "      <td>0.000000</td>\n",
       "      <td>100.000000</td>\n",
       "      <td>1.000000</td>\n",
       "    </tr>\n",
       "    <tr>\n",
       "      <th>22</th>\n",
       "      <td>272PP2716_FIC</td>\n",
       "      <td>2025-04-09</td>\n",
       "      <td>0.000000</td>\n",
       "      <td>100.000000</td>\n",
       "      <td>1.000000</td>\n",
       "    </tr>\n",
       "    <tr>\n",
       "      <th>23</th>\n",
       "      <td>292PP2900A_PIC</td>\n",
       "      <td>2025-04-09</td>\n",
       "      <td>0.000000</td>\n",
       "      <td>100.000000</td>\n",
       "      <td>1.000000</td>\n",
       "    </tr>\n",
       "    <tr>\n",
       "      <th>24</th>\n",
       "      <td>292TK2900_LIC01</td>\n",
       "      <td>2025-04-09</td>\n",
       "      <td>0.000000</td>\n",
       "      <td>100.000000</td>\n",
       "      <td>1.000000</td>\n",
       "    </tr>\n",
       "    <tr>\n",
       "      <th>25</th>\n",
       "      <td>292TK2900_LIC02</td>\n",
       "      <td>2025-04-09</td>\n",
       "      <td>0.000000</td>\n",
       "      <td>100.000000</td>\n",
       "      <td>1.000000</td>\n",
       "    </tr>\n",
       "  </tbody>\n",
       "</table>\n",
       "</div>"
      ],
      "text/plain": [
       "         Controller        Date Avg Limits Exceeded avg_shutdown_%  \\\n",
       "0     212WT1102_PID  2025-04-09            0.126666      96.366666   \n",
       "1     222WT2102_PID  2025-04-09            0.000000     100.000000   \n",
       "2     225BN2105_PID  2025-04-09            0.000000     100.000000   \n",
       "3     225FD2115_PID  2025-04-09            0.000000     100.000000   \n",
       "4     231PP2202_PIC  2025-04-09            0.000000     100.000000   \n",
       "5     231PP2204_DIC  2025-04-09            0.000000     100.000000   \n",
       "6     231PP2204_FIC  2025-04-09            0.000000     100.000000   \n",
       "7     231PP2222_PIC  2025-04-09            0.000000     100.000000   \n",
       "8     231PP2224_DIC  2025-04-09            0.000000     100.000000   \n",
       "9     231PP2224_FIC  2025-04-09            0.000000     100.000000   \n",
       "10    231SU2205_LIC  2025-04-09            0.000000     100.000000   \n",
       "11    241SU2401_LIC  2025-04-09            0.000000     100.000000   \n",
       "12    241SU2405_LIC  2025-04-09            0.000000     100.000000   \n",
       "13    241SU2407_LIC  2025-04-09            0.000000     100.000000   \n",
       "14    271TH2702_DIC  2025-04-09            0.000000     100.000000   \n",
       "15    271TH2702_FIC  2025-04-09            0.000000     100.000000   \n",
       "16    271TH2702_PIC  2025-04-09            0.000000     100.000000   \n",
       "17    272PP2711_FIC  2025-04-09            0.000000     100.000000   \n",
       "18    272PP2712_FIC  2025-04-09            0.000000     100.000000   \n",
       "19    272PP2713_FIC  2025-04-09            0.000000     100.000000   \n",
       "20    272PP2714_FIC  2025-04-09            0.000000     100.000000   \n",
       "21    272PP2715_FIC  2025-04-09            0.000000     100.000000   \n",
       "22    272PP2716_FIC  2025-04-09            0.000000     100.000000   \n",
       "23   292PP2900A_PIC  2025-04-09            0.000000     100.000000   \n",
       "24  292TK2900_LIC01  2025-04-09            0.000000     100.000000   \n",
       "25  292TK2900_LIC02  2025-04-09            0.000000     100.000000   \n",
       "\n",
       "   %_time_in_state  \n",
       "0         0.873334  \n",
       "1         1.000000  \n",
       "2         1.000000  \n",
       "3         1.000000  \n",
       "4         1.000000  \n",
       "5         1.000000  \n",
       "6         1.000000  \n",
       "7         1.000000  \n",
       "8         1.000000  \n",
       "9         1.000000  \n",
       "10        1.000000  \n",
       "11        1.000000  \n",
       "12        1.000000  \n",
       "13        1.000000  \n",
       "14        1.000000  \n",
       "15        1.000000  \n",
       "16        1.000000  \n",
       "17        1.000000  \n",
       "18        1.000000  \n",
       "19        1.000000  \n",
       "20        1.000000  \n",
       "21        1.000000  \n",
       "22        1.000000  \n",
       "23        1.000000  \n",
       "24        1.000000  \n",
       "25        1.000000  "
      ]
     },
     "execution_count": 3,
     "metadata": {},
     "output_type": "execute_result"
    }
   ],
   "source": [
    "targets"
   ]
  },
  {
   "cell_type": "code",
   "execution_count": 2,
   "id": "2fb2447b-13a4-4741-9d72-eb55edd25597",
   "metadata": {
    "tags": []
   },
   "outputs": [
    {
     "ename": "NameError",
     "evalue": "name 'targets' is not defined",
     "output_type": "error",
     "traceback": [
      "\u001b[0;31m---------------------------------------------------------------------------\u001b[0m",
      "\u001b[0;31mNameError\u001b[0m                                 Traceback (most recent call last)",
      "Cell \u001b[0;32mIn[2], line 1\u001b[0m\n\u001b[0;32m----> 1\u001b[0m \u001b[43mtargets\u001b[49m\u001b[38;5;241m.\u001b[39mto_csv(\u001b[38;5;124m\"\u001b[39m\u001b[38;5;124mtargets.csv\u001b[39m\u001b[38;5;124m\"\u001b[39m)\n",
      "\u001b[0;31mNameError\u001b[0m: name 'targets' is not defined"
     ]
    }
   ],
   "source": [
    "targets.to_csv(\"targets.csv\")"
   ]
  },
  {
   "cell_type": "code",
   "execution_count": 3,
   "id": "7d842082-09e2-49cc-8f41-a26b32dd2b43",
   "metadata": {
    "tags": []
   },
   "outputs": [],
   "source": [
    "df = pd.read_csv(\"engineering_tags.csv\")\n",
    "targets = pd.read_csv(\"targets.csv\")"
   ]
  },
  {
   "cell_type": "code",
   "execution_count": 4,
   "id": "5a9be536-a1c4-476c-9709-720f6268feb0",
   "metadata": {
    "tags": []
   },
   "outputs": [
    {
     "data": {
      "text/plain": [
       "'2025-03-19 12:28:00+00:00'"
      ]
     },
     "execution_count": 4,
     "metadata": {},
     "output_type": "execute_result"
    }
   ],
   "source": [
    "df['Timestamp'].max()"
   ]
  },
  {
   "cell_type": "code",
   "execution_count": 5,
   "id": "b3ab18fb-21ca-488f-bec4-29a976ccbf12",
   "metadata": {
    "tags": []
   },
   "outputs": [
    {
     "data": {
      "text/plain": [
       "True"
      ]
     },
     "execution_count": 5,
     "metadata": {},
     "output_type": "execute_result"
    }
   ],
   "source": [
    "df.shape[0] == targets.shape[0]"
   ]
  },
  {
   "cell_type": "code",
   "execution_count": 6,
   "id": "6a838d6a-be9a-48f9-a6cd-b47b9bc38b74",
   "metadata": {
    "tags": []
   },
   "outputs": [],
   "source": [
    "# Shutdown rules mask. Remove\n",
    "\n",
    "# CHP Raw Coal: 212WT1102_W_PV_PVI > 50   # 73a26cf5-8767-4340-b7f3-b29400bd1b7c\n",
    "CHP_Raw_Coal_mask = df['73a26cf5-8767-4340-b7f3-b29400bd1b7c']>50\n",
    "\n",
    "# CPP Raw Coal: 222WT2102_PIDFF_PV_PVI > 50  #   aa5a76dd-74da-4aeb-a094-b29300ac591f\n",
    "CPP_Raw_Coal_mask = df['aa5a76dd-74da-4aeb-a094-b29300ac591f']>50\n",
    "\n",
    "# CPP Washplant (225BN2105_PIDFF_PV_PVI)(Healthy > 50)\n",
    "CPP_wash_water = targets['a929700b-ea59-4528-ad11-b29300ac4c79']>50"
   ]
  },
  {
   "cell_type": "code",
   "execution_count": 7,
   "id": "0fce63f1-78c8-4d81-b539-6acbaa09f63e",
   "metadata": {
    "tags": []
   },
   "outputs": [],
   "source": [
    "chp_df = df[CHP_Raw_Coal_mask]\n",
    "cpp_df_raw_coal = df[CPP_Raw_Coal_mask]\n",
    "cpp_df_wash_water = df[CPP_wash_water]"
   ]
  },
  {
   "cell_type": "code",
   "execution_count": 11,
   "id": "e7af1b60-3533-459a-bca7-489766ac3f0a",
   "metadata": {
    "tags": []
   },
   "outputs": [],
   "source": [
    "chp_df = chp_df[chp_ids_raw_coal]\n",
    "cpp_df_raw_coal = cpp_df_raw_coal[cpp_ids_raw_coal]\n",
    "cpp_df_wash_water = cpp_df_wash_water[cpp_wash_water]"
   ]
  },
  {
   "cell_type": "code",
   "execution_count": 12,
   "id": "e59b770d-5733-4b57-9a72-32d2540d4acb",
   "metadata": {
    "tags": []
   },
   "outputs": [
    {
     "data": {
      "text/plain": [
       "(20224, 14)"
      ]
     },
     "execution_count": 12,
     "metadata": {},
     "output_type": "execute_result"
    }
   ],
   "source": [
    "chp_df.shape"
   ]
  },
  {
   "cell_type": "code",
   "execution_count": 13,
   "id": "5803b0d4-1e67-4b53-bc20-0fd6b321b34b",
   "metadata": {
    "tags": []
   },
   "outputs": [
    {
     "data": {
      "text/plain": [
       "(20734, 13)"
      ]
     },
     "execution_count": 13,
     "metadata": {},
     "output_type": "execute_result"
    }
   ],
   "source": [
    "cpp_df_raw_coal.shape"
   ]
  },
  {
   "cell_type": "code",
   "execution_count": 29,
   "id": "db450408-67e2-47a4-a719-eff4502e1669",
   "metadata": {
    "tags": []
   },
   "outputs": [
    {
     "data": {
      "text/plain": [
       "(20641, 79)"
      ]
     },
     "execution_count": 29,
     "metadata": {},
     "output_type": "execute_result"
    }
   ],
   "source": [
    "cpp_df_wash_water.shape"
   ]
  },
  {
   "cell_type": "code",
   "execution_count": 31,
   "id": "e35f4e84-3ee4-4080-8e54-40504171889b",
   "metadata": {
    "tags": []
   },
   "outputs": [
    {
     "data": {
      "text/html": [
       "<div>\n",
       "<style scoped>\n",
       "    .dataframe tbody tr th:only-of-type {\n",
       "        vertical-align: middle;\n",
       "    }\n",
       "\n",
       "    .dataframe tbody tr th {\n",
       "        vertical-align: top;\n",
       "    }\n",
       "\n",
       "    .dataframe thead th {\n",
       "        text-align: right;\n",
       "    }\n",
       "</style>\n",
       "<table border=\"1\" class=\"dataframe\">\n",
       "  <thead>\n",
       "    <tr style=\"text-align: right;\">\n",
       "      <th></th>\n",
       "      <th>min</th>\n",
       "      <th>max</th>\n",
       "    </tr>\n",
       "    <tr>\n",
       "      <th>column_name</th>\n",
       "      <th></th>\n",
       "      <th></th>\n",
       "    </tr>\n",
       "  </thead>\n",
       "  <tbody>\n",
       "    <tr>\n",
       "      <th>46dd3cf8-6476-46d1-b920-b29300ac4660</th>\n",
       "      <td>0.0000</td>\n",
       "      <td>19.549999</td>\n",
       "    </tr>\n",
       "    <tr>\n",
       "      <th>ef345c67-a29b-4d63-81ea-b29300ac4970</th>\n",
       "      <td>0.0000</td>\n",
       "      <td>497.599983</td>\n",
       "    </tr>\n",
       "    <tr>\n",
       "      <th>c03ea409-df5a-43e3-a249-b29300ac4661</th>\n",
       "      <td>0.0000</td>\n",
       "      <td>191.599998</td>\n",
       "    </tr>\n",
       "    <tr>\n",
       "      <th>704ef947-7892-4c46-b8a0-b29300ac4665</th>\n",
       "      <td>21.7000</td>\n",
       "      <td>25.375000</td>\n",
       "    </tr>\n",
       "    <tr>\n",
       "      <th>d3f17e16-0c25-4fef-9a19-b29300ac4666</th>\n",
       "      <td>22.2420</td>\n",
       "      <td>29.062500</td>\n",
       "    </tr>\n",
       "    <tr>\n",
       "      <th>...</th>\n",
       "      <td>...</td>\n",
       "      <td>...</td>\n",
       "    </tr>\n",
       "    <tr>\n",
       "      <th>8eb99ff2-3777-43c7-9047-b29300ac5ac0</th>\n",
       "      <td>21.3875</td>\n",
       "      <td>35.157500</td>\n",
       "    </tr>\n",
       "    <tr>\n",
       "      <th>e32c0db5-ae9e-4d3c-9a22-b29300ac4e06</th>\n",
       "      <td>0.0000</td>\n",
       "      <td>113.999996</td>\n",
       "    </tr>\n",
       "    <tr>\n",
       "      <th>c51cd43c-e85b-412a-9b03-b29300ac4e05</th>\n",
       "      <td>0.0000</td>\n",
       "      <td>103.999996</td>\n",
       "    </tr>\n",
       "    <tr>\n",
       "      <th>4a7e8a88-22ee-4b87-84c6-b29300ac5a98</th>\n",
       "      <td>0.0000</td>\n",
       "      <td>2.782500</td>\n",
       "    </tr>\n",
       "    <tr>\n",
       "      <th>9a84c50d-6ec3-48b3-bea9-b29300ac5a99</th>\n",
       "      <td>0.0000</td>\n",
       "      <td>2.835000</td>\n",
       "    </tr>\n",
       "  </tbody>\n",
       "</table>\n",
       "<p>79 rows × 2 columns</p>\n",
       "</div>"
      ],
      "text/plain": [
       "                                          min         max\n",
       "column_name                                              \n",
       "46dd3cf8-6476-46d1-b920-b29300ac4660   0.0000   19.549999\n",
       "ef345c67-a29b-4d63-81ea-b29300ac4970   0.0000  497.599983\n",
       "c03ea409-df5a-43e3-a249-b29300ac4661   0.0000  191.599998\n",
       "704ef947-7892-4c46-b8a0-b29300ac4665  21.7000   25.375000\n",
       "d3f17e16-0c25-4fef-9a19-b29300ac4666  22.2420   29.062500\n",
       "...                                       ...         ...\n",
       "8eb99ff2-3777-43c7-9047-b29300ac5ac0  21.3875   35.157500\n",
       "e32c0db5-ae9e-4d3c-9a22-b29300ac4e06   0.0000  113.999996\n",
       "c51cd43c-e85b-412a-9b03-b29300ac4e05   0.0000  103.999996\n",
       "4a7e8a88-22ee-4b87-84c6-b29300ac5a98   0.0000    2.782500\n",
       "9a84c50d-6ec3-48b3-bea9-b29300ac5a99   0.0000    2.835000\n",
       "\n",
       "[79 rows x 2 columns]"
      ]
     },
     "execution_count": 31,
     "metadata": {},
     "output_type": "execute_result"
    }
   ],
   "source": [
    "import pandas as pd\n",
    "\n",
    "# Sample DataFrame\n",
    "# df = pd.read_csv(\"your_file.csv\")  # Uncomment to load your DataFrame\n",
    "\n",
    "# Calculate the 10th and 90th percentiles\n",
    "quantiles = cpp_df_wash_water.quantile([0.01, 0.99]).T\n",
    "quantiles.columns = ['min', 'max']  # Rename columns\n",
    "quantiles.index.name = 'column_name'  # Set index name\n",
    "\n",
    "# Save to CSV\n",
    "quantiles.to_csv(\"cpp_df_wash_water.csv\")\n",
    "\n",
    "# Display the result\n",
    "quantiles\n"
   ]
  },
  {
   "cell_type": "code",
   "execution_count": 13,
   "id": "0e1668e2-cc69-4460-b6d5-470c708b5f0d",
   "metadata": {},
   "outputs": [],
   "source": [
    "import matplotlib.pyplot as plt"
   ]
  },
  {
   "cell_type": "code",
   "execution_count": null,
   "id": "f1d1189e-720e-49bf-822d-e6adf79c7a1b",
   "metadata": {},
   "outputs": [],
   "source": []
  }
 ],
 "metadata": {
  "kernelspec": {
   "display_name": "Python 3 (ipykernel)",
   "language": "python",
   "name": "python3"
  },
  "language_info": {
   "codemirror_mode": {
    "name": "ipython",
    "version": 3
   },
   "file_extension": ".py",
   "mimetype": "text/x-python",
   "name": "python",
   "nbconvert_exporter": "python",
   "pygments_lexer": "ipython3",
   "version": "3.10.12"
  }
 },
 "nbformat": 4,
 "nbformat_minor": 5
}
